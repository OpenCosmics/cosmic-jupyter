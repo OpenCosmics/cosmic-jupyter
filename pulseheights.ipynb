{
 "cells": [
  {
   "cell_type": "code",
   "execution_count": 15,
   "metadata": {
    "collapsed": false
   },
   "outputs": [
    {
     "name": "stderr",
     "output_type": "stream",
     "text": [
      "100%|#####################################################################################################################################|Time: 0:00:08\n"
     ]
    }
   ],
   "source": [
    "import sapphire\n",
    "from sapphire import esd\n",
    "data = esd.quick_download(102)"
   ]
  },
  {
   "cell_type": "code",
   "execution_count": 16,
   "metadata": {
    "collapsed": false
   },
   "outputs": [
    {
     "name": "stdout",
     "output_type": "stream",
     "text": [
      "data2.h5 (File) ''\n",
      "Last modif.: 'Sat Jun  4 14:34:00 2016'\n",
      "Object Tree: \n",
      "/ (RootGroup) ''\n",
      "/s102 (Group) ''\n",
      "/s102/events (Table(62493,)) ''\n",
      "\n"
     ]
    }
   ],
   "source": [
    "print data"
   ]
  },
  {
   "cell_type": "code",
   "execution_count": 17,
   "metadata": {
    "collapsed": false
   },
   "outputs": [
    {
     "data": {
      "text/plain": [
       "/s102/events (Table(62493,)) ''\n",
       "  description := {\n",
       "  \"event_id\": UInt32Col(shape=(), dflt=0, pos=0),\n",
       "  \"timestamp\": Time32Col(shape=(), dflt=0, pos=1),\n",
       "  \"nanoseconds\": UInt32Col(shape=(), dflt=0, pos=2),\n",
       "  \"ext_timestamp\": UInt64Col(shape=(), dflt=0, pos=3),\n",
       "  \"pulseheights\": Int16Col(shape=(4,), dflt=0, pos=4),\n",
       "  \"integrals\": Int32Col(shape=(4,), dflt=0, pos=5),\n",
       "  \"n1\": Float32Col(shape=(), dflt=0.0, pos=6),\n",
       "  \"n2\": Float32Col(shape=(), dflt=0.0, pos=7),\n",
       "  \"n3\": Float32Col(shape=(), dflt=0.0, pos=8),\n",
       "  \"n4\": Float32Col(shape=(), dflt=0.0, pos=9),\n",
       "  \"t1\": Float32Col(shape=(), dflt=0.0, pos=10),\n",
       "  \"t2\": Float32Col(shape=(), dflt=0.0, pos=11),\n",
       "  \"t3\": Float32Col(shape=(), dflt=0.0, pos=12),\n",
       "  \"t4\": Float32Col(shape=(), dflt=0.0, pos=13),\n",
       "  \"t_trigger\": Float32Col(shape=(), dflt=0.0, pos=14)}\n",
       "  byteorder := 'little'\n",
       "  chunkshape := (819,)"
      ]
     },
     "execution_count": 17,
     "metadata": {},
     "output_type": "execute_result"
    }
   ],
   "source": [
    "data.root.s102.events"
   ]
  },
  {
   "cell_type": "code",
   "execution_count": 18,
   "metadata": {
    "collapsed": false
   },
   "outputs": [
    {
     "data": {
      "text/plain": [
       "(0L, 1464912000, 431562929L, 1464912000431562929L, [169, 54, -1, -1], [1510, 272, -1, -1], 0.4950900077819824, 0.10617999732494354, -1.0, -1.0, 1062.5, 992.5, -1.0, -1.0, 1065.0)"
      ]
     },
     "execution_count": 18,
     "metadata": {},
     "output_type": "execute_result"
    }
   ],
   "source": [
    "events = data.root.s102.events\n",
    "events[0]"
   ]
  },
  {
   "cell_type": "code",
   "execution_count": 19,
   "metadata": {
    "collapsed": false
   },
   "outputs": [],
   "source": [
    "ph = events.col('pulseheights')"
   ]
  },
  {
   "cell_type": "code",
   "execution_count": 20,
   "metadata": {
    "collapsed": false
   },
   "outputs": [
    {
     "data": {
      "text/plain": [
       "'1.5.1'"
      ]
     },
     "execution_count": 20,
     "metadata": {},
     "output_type": "execute_result"
    }
   ],
   "source": [
    "%matplotlib inline\n",
    "import matplotlib.pyplot as plt\n",
    "import numpy as np\n",
    "matplotlib.__version__"
   ]
  },
  {
   "cell_type": "code",
   "execution_count": 21,
   "metadata": {
    "collapsed": false,
    "scrolled": true
   },
   "outputs": [
    {
     "data": {
      "text/plain": [
       "<matplotlib.text.Text at 0x7f545d091690>"
      ]
     },
     "execution_count": 21,
     "metadata": {},
     "output_type": "execute_result"
    },
    {
     "data": {
      "image/png": "[encoded data removed]",
      "text/plain": [
       "<matplotlib.figure.Figure at 0x7f545fdcead0>"
      ]
     },
     "metadata": {},
     "output_type": "display_data"
    }
   ],
   "source": [
    "bins = np.linspace(0,2000,101)\n",
    "plt.hist(ph,bins,histtype='step',log=True)\n",
    "plt.xlabel('pulseheight [ADC]')\n",
    "plt.ylabel('counts')\n",
    "plt.title('')"
   ]
  },
  {
   "cell_type": "code",
   "execution_count": null,
   "metadata": {
    "collapsed": true
   },
   "outputs": [],
   "source": []
  }
 ],
 "metadata": {
  "kernelspec": {
   "display_name": "Python 2",
   "language": "python",
   "name": "python2"
  },
  "language_info": {
   "codemirror_mode": {
    "name": "ipython",
    "version": 2
   },
   "file_extension": ".py",
   "mimetype": "text/x-python",
   "name": "python",
   "nbconvert_exporter": "python",
   "pygments_lexer": "ipython2",
   "version": "2.7.11"
  }
 },
 "nbformat": 4,
 "nbformat_minor": 0
}

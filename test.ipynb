{
 "cells": [
  {
   "cell_type": "code",
   "execution_count": 1,
   "metadata": {
    "collapsed": false
   },
   "outputs": [
    {
     "name": "stderr",
     "output_type": "stream",
     "text": [
      "100%|#####################################################################################################################################|Time: 0:00:06\n"
     ]
    }
   ],
   "source": [
    "import sapphire\n",
    "from sapphire import esd\n",
    "data = esd.quick_download(102)"
   ]
  },
  {
   "cell_type": "code",
   "execution_count": 2,
   "metadata": {
    "collapsed": false
   },
   "outputs": [
    {
     "name": "stdout",
     "output_type": "stream",
     "text": [
      "data1.h5 (File) ''\n",
      "Last modif.: 'Fri Jun  3 10:08:03 2016'\n",
      "Object Tree: \n",
      "/ (RootGroup) ''\n",
      "/s102 (Group) ''\n",
      "/s102/events (Table(57064,)) ''\n",
      "\n"
     ]
    }
   ],
   "source": [
    "print data"
   ]
  },
  {
   "cell_type": "code",
   "execution_count": 3,
   "metadata": {
    "collapsed": false
   },
   "outputs": [
    {
     "data": {
      "text/plain": [
       "/s102/events (Table(57064,)) ''\n",
       "  description := {\n",
       "  \"event_id\": UInt32Col(shape=(), dflt=0, pos=0),\n",
       "  \"timestamp\": Time32Col(shape=(), dflt=0, pos=1),\n",
       "  \"nanoseconds\": UInt32Col(shape=(), dflt=0, pos=2),\n",
       "  \"ext_timestamp\": UInt64Col(shape=(), dflt=0, pos=3),\n",
       "  \"pulseheights\": Int16Col(shape=(4,), dflt=0, pos=4),\n",
       "  \"integrals\": Int32Col(shape=(4,), dflt=0, pos=5),\n",
       "  \"n1\": Float32Col(shape=(), dflt=0.0, pos=6),\n",
       "  \"n2\": Float32Col(shape=(), dflt=0.0, pos=7),\n",
       "  \"n3\": Float32Col(shape=(), dflt=0.0, pos=8),\n",
       "  \"n4\": Float32Col(shape=(), dflt=0.0, pos=9),\n",
       "  \"t1\": Float32Col(shape=(), dflt=0.0, pos=10),\n",
       "  \"t2\": Float32Col(shape=(), dflt=0.0, pos=11),\n",
       "  \"t3\": Float32Col(shape=(), dflt=0.0, pos=12),\n",
       "  \"t4\": Float32Col(shape=(), dflt=0.0, pos=13),\n",
       "  \"t_trigger\": Float32Col(shape=(), dflt=0.0, pos=14)}\n",
       "  byteorder := 'little'\n",
       "  chunkshape := (819,)"
      ]
     },
     "execution_count": 3,
     "metadata": {},
     "output_type": "execute_result"
    }
   ],
   "source": [
    "data.root.s102.events"
   ]
  },
  {
   "cell_type": "code",
   "execution_count": 4,
   "metadata": {
    "collapsed": false
   },
   "outputs": [
    {
     "data": {
      "text/plain": [
       "(0L, 1464825600, 359743778L, 1464825600359743778L, [140, 233, -1, -1], [900, 2099, -1, -1], 0.2767600119113922, 0.80308997631073, -1.0, -1.0, 1840.0, 997.5, -1.0, -1.0, 1840.0)"
      ]
     },
     "execution_count": 4,
     "metadata": {},
     "output_type": "execute_result"
    }
   ],
   "source": [
    "events = data.root.s102.events\n",
    "events[0]"
   ]
  },
  {
   "cell_type": "code",
   "execution_count": 11,
   "metadata": {
    "collapsed": false
   },
   "outputs": [],
   "source": [
    "ph = events.col('pulseheights')"
   ]
  },
  {
   "cell_type": "code",
   "execution_count": 12,
   "metadata": {
    "collapsed": false
   },
   "outputs": [],
   "source": [
    "%matplotlib inline\n",
    "import matplotlib.pyplot as plt\n",
    "import numpy as np"
   ]
  },
  {
   "cell_type": "code",
   "execution_count": 14,
   "metadata": {
    "collapsed": false
   },
   "outputs": [
    {
     "data": {
      "text/plain": [
       "<matplotlib.text.Text at 0x7f545cfcb710>"
      ]
     },
     "execution_count": 14,
     "metadata": {},
     "output_type": "execute_result"
    },
    {
     "data": {
      "image/png": "[encoded data removed]",
      "text/plain": [
       "<matplotlib.figure.Figure at 0x7f545d167d10>"
      ]
     },
     "metadata": {},
     "output_type": "display_data"
    }
   ],
   "source": [
    "bins = np.linspace(0,2000,101)\n",
    "plt.hist(ph,bins,histtype='step',log=True)\n",
    "plt.xlabel('pulseheight [ADC]')\n",
    "plt.ylabel('counts')\n",
    "plt.title('')"
   ]
  },
  {
   "cell_type": "code",
   "execution_count": null,
   "metadata": {
    "collapsed": true
   },
   "outputs": [],
   "source": []
  }
 ],
 "metadata": {
  "kernelspec": {
   "display_name": "Python 2",
   "language": "python",
   "name": "python2"
  },
  "language_info": {
   "codemirror_mode": {
    "name": "ipython",
    "version": 2
   },
   "file_extension": ".py",
   "mimetype": "text/x-python",
   "name": "python",
   "nbconvert_exporter": "python",
   "pygments_lexer": "ipython2",
   "version": "2.7.11"
  }
 },
 "nbformat": 4,
 "nbformat_minor": 0
}

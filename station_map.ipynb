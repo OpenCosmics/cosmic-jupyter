{
 "cells": [
  {
   "cell_type": "code",
   "execution_count": null,
   "metadata": {
    "collapsed": true
   },
   "outputs": [],
   "source": [
    "#...for the JSON file managements.\n",
    "import json\n",
    "\n",
    "#...for the maps.\n",
    "from mpl_toolkits.basemap import Basemap\n",
    "\n",
    "#...for the MATH.\n",
    "import numpy as np\n",
    "\n",
    "#...for the plotting.\n",
    "%matplotlib inline\n",
    "import matplotlib.pyplot as plt"
   ]
  },
  {
   "cell_type": "code",
   "execution_count": null,
   "metadata": {
    "collapsed": false
   },
   "outputs": [],
   "source": [
    "# Get the station information.\n",
    "\n",
    "## The station latitudes.\n",
    "lats = []\n",
    "\n",
    "## The station longitudes.\n",
    "lons = []\n",
    "\n",
    "## The HiSPARC JSON file.\n",
    "hisparc_json_file = open(\"stations/json/hisparc.json\", 'r')\n",
    "hisparc_json = json.load(hisparc_json_file)\n",
    "hisparc_json_file.close()\n",
    "\n",
    "print(\"* Number of HiSPARC stations: %d\" % (len(hisparc_json)))\n",
    "\n",
    "for station_id, sd in hisparc_json.iteritems():\n",
    "    lats.append(sd['latitude'])\n",
    "    lons.append(sd['longitude'])\n",
    "    #break\n",
    "    \n",
    "## The QuarkNet JSON file.\n",
    "qn_json_file = open(\"stations/json/quarknet.json\", 'r')\n",
    "qn_json = json.load(qn_json_file)\n",
    "qn_json_file.close()\n",
    "\n",
    "print(\"* Number of QuarkNet stations: %d\" % (len(qn_json)))\n",
    "\n",
    "for station_id, sd in qn_json.iteritems():\n",
    "    lats.append(sd['latitude'])\n",
    "    lons.append(sd['longitude'])\n",
    "    #break\n",
    "\n",
    "## The minimum latitude to plot.\n",
    "min_lat = max(min(lats) - 5.0, -90.0)\n",
    "\n",
    "## The maximum latitude to plot.\n",
    "max_lat = min(max(lats) + 5.0,  90.0)\n",
    "\n",
    "## The minimum longitude to plot.\n",
    "min_lon = max(min(lons) - 5.0, -180.0)\n",
    "\n",
    "## The maximum longitude to plot.\n",
    "max_lon = min(max(lons) + 5.0,  180.0)\n",
    "\n",
    "print(\"* Plotting between latitudes  [% 12.6f, % 12.6f]\" % (min_lat, max_lat))\n",
    "print(\"* Plotting between longitudes [% 12.6f, % 12.6f]\" % (min_lon, max_lon))"
   ]
  },
  {
   "cell_type": "code",
   "execution_count": null,
   "metadata": {
    "collapsed": false
   },
   "outputs": [],
   "source": [
    "# Close all active figures (good practice).\n",
    "plt.close('all')\n",
    "\n",
    "## The thresholded image plot.\n",
    "map_figure = plt.figure(101, figsize=(15.0, 10.0), dpi=150, facecolor='w', edgecolor='w')\n",
    "\n",
    "# Adjust the position of the axes.\n",
    "map_figure.subplots_adjust(bottom=0.17, left=0.15)\n",
    "\n",
    "## The map axes.\n",
    "map_ax = map_figure.add_subplot(111)\n",
    "\n",
    "## The Basemap object for plotting the station positions.\n",
    "m = Basemap(llcrnrlon=min_lon,llcrnrlat=min_lat,urcrnrlon=max_lon,urcrnrlat=max_lat,\\\n",
    "            rsphere=(6378137.00,6356752.3142),\\\n",
    "            resolution='l',projection='merc',\\\n",
    "            lat_0=40.,lon_0=-20.,lat_ts=20.)\n",
    "\n",
    "# Draw the coastlines.\n",
    "m.drawcoastlines()\n",
    "\n",
    "# Fill in the continents.\n",
    "m.fillcontinents()\n",
    "\n",
    "# Draw the parallels.\n",
    "m.drawparallels(np.arange(-90,90,15),labels=[1,1,1,1])\n",
    "\n",
    "# Draw the meridians.\n",
    "m.drawmeridians(np.arange(-180,180,30),labels=[1,1,1,1])\n",
    "\n",
    "# Create the map coordinates from the latitude and longitude lists.\n",
    "x,y = m(lons, lats)\n",
    "\n",
    "# Plot them!\n",
    "m.plot(x, y, 'bo', markersize=5)"
   ]
  },
  {
   "cell_type": "code",
   "execution_count": null,
   "metadata": {
    "collapsed": true
   },
   "outputs": [],
   "source": []
  }
 ],
 "metadata": {
  "kernelspec": {
   "display_name": "Python 2",
   "language": "python",
   "name": "python2"
  },
  "language_info": {
   "codemirror_mode": {
    "name": "ipython",
    "version": 2
   },
   "file_extension": ".py",
   "mimetype": "text/x-python",
   "name": "python",
   "nbconvert_exporter": "python",
   "pygments_lexer": "ipython2",
   "version": "2.7.11"
  }
 },
 "nbformat": 4,
 "nbformat_minor": 0
}
